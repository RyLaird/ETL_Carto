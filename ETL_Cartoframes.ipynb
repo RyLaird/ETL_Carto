{
 "cells": [
  {
   "cell_type": "code",
   "execution_count": null,
   "id": "32021f1d",
   "metadata": {
    "scrolled": true
   },
   "outputs": [],
   "source": [
    "import cartoframes\n",
    "import json\n",
    "import os\n",
    "import pandas as pd\n",
    "from cartoframes.auth import Credentials\n",
    "from cartoframes.auth import set_default_credentials\n",
    "from geopandas import GeoDataFrame\n",
    "from cartoframes.utils import decode_geometry\n",
    "from geopandas import read_file\n",
    "from cartoframes import to_carto"
   ]
  },
  {
   "cell_type": "code",
   "execution_count": null,
   "id": "0e4c2ad8",
   "metadata": {},
   "outputs": [],
   "source": [
    "#set  up credentials json\n",
    "\n",
    "username = input('Enter your username: ')\n",
    "api_key = input('Enter your api key: ')\n",
    "\n",
    "\n",
    "\n",
    "creds = {\n",
    "    #insert username\n",
    "    \"username\": username,\n",
    "    #insert api key\n",
    "    \"api_key\": api_key\n",
    "}"
   ]
  },
  {
   "cell_type": "code",
   "execution_count": null,
   "id": "6d5c14f0",
   "metadata": {},
   "outputs": [],
   "source": [
    "with open(\"creds.json\", \"w\") as write_file:\n",
    "    json.dump(creds, write_file)"
   ]
  },
  {
   "cell_type": "code",
   "execution_count": null,
   "id": "bae10194",
   "metadata": {},
   "outputs": [],
   "source": [
    "#setup credentials and set as default\n",
    "\n",
    "creds = Credentials.from_file('creds.json')\n",
    "\n",
    "set_default_credentials('creds.json')"
   ]
  },
  {
   "cell_type": "code",
   "execution_count": null,
   "id": "f6830727",
   "metadata": {},
   "outputs": [],
   "source": [
    "data = input('Enter directory of csv, geojson, or shapefile: ')"
   ]
  },
  {
   "cell_type": "code",
   "execution_count": null,
   "id": "f067dd79",
   "metadata": {},
   "outputs": [],
   "source": [
    "if data.endswith('.csv'):\n",
    "    #read csv into df with first 10 rows\n",
    "    df = pd.read_csv(data, nrows=10)\n",
    "    #set up geometry field from current field\n",
    "    gdf = GeoDataFrame(df, geometry=decode_geometry(df['the_geom']))\n",
    "    gdf = gdf.drop(columns=['the_geom'])\n",
    "    print(gdf)\n",
    "elif data.endswith(('.shp', '.geojson')):\n",
    "    #read shapefile into df with 10 rows\n",
    "    gdf = read_file(data, rows=10)\n",
    "    print(gdf)\n",
    "else:\n",
    "    print(\"Data not supported. Please upload a .csv, .shp, or .geojson file\")"
   ]
  },
  {
   "cell_type": "code",
   "execution_count": null,
   "id": "85c7be1d",
   "metadata": {},
   "outputs": [],
   "source": [
    "to_carto(gdf, 'new_data', if_exists='replace')"
   ]
  },
  {
   "cell_type": "code",
   "execution_count": null,
   "id": "8c4f9248",
   "metadata": {},
   "outputs": [],
   "source": []
  }
 ],
 "metadata": {
  "kernelspec": {
   "display_name": "Python 3",
   "language": "python",
   "name": "python3"
  },
  "language_info": {
   "codemirror_mode": {
    "name": "ipython",
    "version": 3
   },
   "file_extension": ".py",
   "mimetype": "text/x-python",
   "name": "python",
   "nbconvert_exporter": "python",
   "pygments_lexer": "ipython3",
   "version": "3.7.10"
  }
 },
 "nbformat": 4,
 "nbformat_minor": 5
}
